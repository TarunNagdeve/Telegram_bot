{
  "nbformat": 4,
  "nbformat_minor": 0,
  "metadata": {
    "colab": {
      "name": "Telegram_bot.ipynb",
      "provenance": [],
      "authorship_tag": "ABX9TyNOgXvnEMK2pjw+INx7BBlU",
      "include_colab_link": true
    },
    "kernelspec": {
      "name": "python3",
      "display_name": "Python 3"
    },
    "language_info": {
      "name": "python"
    }
  },
  "cells": [
    {
      "cell_type": "markdown",
      "metadata": {
        "id": "view-in-github",
        "colab_type": "text"
      },
      "source": [
        "<a href=\"https://colab.research.google.com/github/TrunnMosby/Telegram_bot/blob/main/Telegram_bot.ipynb\" target=\"_parent\"><img src=\"https://colab.research.google.com/assets/colab-badge.svg\" alt=\"Open In Colab\"/></a>"
      ]
    },
    {
      "cell_type": "code",
      "metadata": {
        "colab": {
          "base_uri": "https://localhost:8080/"
        },
        "id": "GuJ3nTaSvKJf",
        "outputId": "efe81d9d-de6a-44be-a996-7f4568553ed1"
      },
      "source": [
        "pip install python-telegram-bot"
      ],
      "execution_count": 2,
      "outputs": [
        {
          "output_type": "stream",
          "text": [
            "Collecting python-telegram-bot\n",
            "\u001b[?25l  Downloading https://files.pythonhosted.org/packages/be/e2/d6dae3f4b907bf9c7ec0f3eff51710a03a80bee6d6a56693153cad66fdc9/python_telegram_bot-13.4.1-py3-none-any.whl (448kB)\n",
            "\u001b[K     |████████████████████████████████| 450kB 8.5MB/s \n",
            "\u001b[?25hRequirement already satisfied: pytz>=2018.6 in /usr/local/lib/python3.7/dist-packages (from python-telegram-bot) (2018.9)\n",
            "Requirement already satisfied: tornado>=5.1 in /usr/local/lib/python3.7/dist-packages (from python-telegram-bot) (5.1.1)\n",
            "Requirement already satisfied: certifi in /usr/local/lib/python3.7/dist-packages (from python-telegram-bot) (2020.12.5)\n",
            "Collecting APScheduler==3.6.3\n",
            "\u001b[?25l  Downloading https://files.pythonhosted.org/packages/f3/34/9ef20ed473c4fd2c3df54ef77a27ae3fc7500b16b192add4720cab8b2c09/APScheduler-3.6.3-py2.py3-none-any.whl (58kB)\n",
            "\u001b[K     |████████████████████████████████| 61kB 10.1MB/s \n",
            "\u001b[?25hRequirement already satisfied: tzlocal>=1.2 in /usr/local/lib/python3.7/dist-packages (from APScheduler==3.6.3->python-telegram-bot) (1.5.1)\n",
            "Requirement already satisfied: setuptools>=0.7 in /usr/local/lib/python3.7/dist-packages (from APScheduler==3.6.3->python-telegram-bot) (54.1.2)\n",
            "Requirement already satisfied: six>=1.4.0 in /usr/local/lib/python3.7/dist-packages (from APScheduler==3.6.3->python-telegram-bot) (1.15.0)\n",
            "Installing collected packages: APScheduler, python-telegram-bot\n",
            "Successfully installed APScheduler-3.6.3 python-telegram-bot-13.4.1\n"
          ],
          "name": "stdout"
        }
      ]
    },
    {
      "cell_type": "code",
      "metadata": {
        "id": "yrCsa_1HvL6W"
      },
      "source": [
        "import telegram"
      ],
      "execution_count": 37,
      "outputs": []
    },
    {
      "cell_type": "code",
      "metadata": {
        "id": "E--1t7LyvM1A"
      },
      "source": [
        "bot = telegram.bot"
      ],
      "execution_count": 38,
      "outputs": []
    },
    {
      "cell_type": "code",
      "metadata": {
        "id": "kvz3dqMDvqAa"
      },
      "source": [
        "bot=bot.Bot(token='1692307660:AAGF7KVH8ZtqHWzw4-qQaDjs1IFKFVQfEDM')"
      ],
      "execution_count": 39,
      "outputs": []
    },
    {
      "cell_type": "code",
      "metadata": {
        "colab": {
          "base_uri": "https://localhost:8080/"
        },
        "id": "GbzJY589v8gc",
        "outputId": "9a53310d-5277-4b90-82ab-a62e758cb6f1"
      },
      "source": [
        "bot"
      ],
      "execution_count": 40,
      "outputs": [
        {
          "output_type": "execute_result",
          "data": {
            "text/plain": [
              "<telegram.bot.Bot at 0x7f55a70adcd0>"
            ]
          },
          "metadata": {
            "tags": []
          },
          "execution_count": 40
        }
      ]
    },
    {
      "cell_type": "code",
      "metadata": {
        "id": "vyTZu75axmwz"
      },
      "source": [
        "from telegram.ext import Updater, CommandHandler, MessageHandler, Filters"
      ],
      "execution_count": 41,
      "outputs": []
    },
    {
      "cell_type": "code",
      "metadata": {
        "id": "l9j428-TyIGZ"
      },
      "source": [
        "updater=Updater(token='1692307660:AAGF7KVH8ZtqHWzw4-qQaDjs1IFKFVQfEDM',use_context=True)\n",
        "dispatcher=updater.dispatcher"
      ],
      "execution_count": 42,
      "outputs": []
    },
    {
      "cell_type": "code",
      "metadata": {
        "id": "JQ6Ks3mByXxW"
      },
      "source": [
        "def hello(update,context):\n",
        "  context.bot.send_message(chat_id=update.effective_chat.id,text='Davidd!!!!')"
      ],
      "execution_count": 43,
      "outputs": []
    },
    {
      "cell_type": "code",
      "metadata": {
        "id": "wIQXVLV7yupE"
      },
      "source": [
        "hello_handler=CommandHandler('hello',hello)\n",
        "dispatcher.add_handler(hello_handler)"
      ],
      "execution_count": 44,
      "outputs": []
    },
    {
      "cell_type": "code",
      "metadata": {
        "colab": {
          "base_uri": "https://localhost:8080/"
        },
        "id": "H_GFfMHjzANS",
        "outputId": "0f09b97d-62fa-4995-d99a-44e6f0c5648b"
      },
      "source": [
        "updater.start_polling()"
      ],
      "execution_count": 45,
      "outputs": [
        {
          "output_type": "execute_result",
          "data": {
            "text/plain": [
              "<queue.Queue at 0x7f55a709bb10>"
            ]
          },
          "metadata": {
            "tags": []
          },
          "execution_count": 45
        }
      ]
    },
    {
      "cell_type": "code",
      "metadata": {
        "id": "nMgl-UEUzEWk"
      },
      "source": [
        "import requests\n",
        "import json\n",
        "def summary(update, context):\n",
        "    response = requests.get('https://api.covid19api.com/summary')\n",
        "    if(response.status_code==200): #Everything went okay, we have the data\n",
        "        data = response.json()\n",
        "        print(data['Global'])\n",
        "        context.bot.send_message(chat_id=update.effective_chat.id, text=data['Global'])\n",
        "    else: \n",
        "      context.bot.send_message(chat_id=update.effective_chat.id, text=\"Error, something went wrong.\")\n",
        "\n",
        "corona_summary_handler = CommandHandler('summary', summary)\n",
        "dispatcher.add_handler(corona_summary_handler)"
      ],
      "execution_count": 46,
      "outputs": []
    },
    {
      "cell_type": "code",
      "metadata": {
        "id": "l0B9mBix0Itm"
      },
      "source": [
        ""
      ],
      "execution_count": null,
      "outputs": []
    }
  ]
}